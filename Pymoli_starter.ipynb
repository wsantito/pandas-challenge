{
 "cells": [
  {
   "cell_type": "markdown",
   "metadata": {},
   "source": [
    "### Heroes Of Pymoli Data Analysis\n",
    "* Of the 1163 active players, the vast majority are male (84%). There also exists, a smaller, but notable proportion of female players (14%).\n",
    "\n",
    "* Our peak age demographic falls between 20-24 (44.8%) with secondary groups falling between 15-19 (18.60%) and 25-29 (13.4%).  \n",
    "-----"
   ]
  },
  {
   "cell_type": "markdown",
   "metadata": {},
   "source": [
    "### Note\n",
    "* Instructions have been included for each segment. You do not have to follow them exactly, but they are included to help you think through the steps."
   ]
  },
  {
   "cell_type": "code",
   "execution_count": 1,
   "metadata": {},
   "outputs": [
    {
     "data": {
      "text/html": [
       "<div>\n",
       "<style scoped>\n",
       "    .dataframe tbody tr th:only-of-type {\n",
       "        vertical-align: middle;\n",
       "    }\n",
       "\n",
       "    .dataframe tbody tr th {\n",
       "        vertical-align: top;\n",
       "    }\n",
       "\n",
       "    .dataframe thead th {\n",
       "        text-align: right;\n",
       "    }\n",
       "</style>\n",
       "<table border=\"1\" class=\"dataframe\">\n",
       "  <thead>\n",
       "    <tr style=\"text-align: right;\">\n",
       "      <th></th>\n",
       "      <th>Purchase ID</th>\n",
       "      <th>SN</th>\n",
       "      <th>Age</th>\n",
       "      <th>Gender</th>\n",
       "      <th>Item ID</th>\n",
       "      <th>Item Name</th>\n",
       "      <th>Price</th>\n",
       "    </tr>\n",
       "  </thead>\n",
       "  <tbody>\n",
       "    <tr>\n",
       "      <td>0</td>\n",
       "      <td>0</td>\n",
       "      <td>Lisim78</td>\n",
       "      <td>20</td>\n",
       "      <td>Male</td>\n",
       "      <td>108</td>\n",
       "      <td>Extraction, Quickblade Of Trembling Hands</td>\n",
       "      <td>3.53</td>\n",
       "    </tr>\n",
       "    <tr>\n",
       "      <td>1</td>\n",
       "      <td>1</td>\n",
       "      <td>Lisovynya38</td>\n",
       "      <td>40</td>\n",
       "      <td>Male</td>\n",
       "      <td>143</td>\n",
       "      <td>Frenzied Scimitar</td>\n",
       "      <td>1.56</td>\n",
       "    </tr>\n",
       "    <tr>\n",
       "      <td>2</td>\n",
       "      <td>2</td>\n",
       "      <td>Ithergue48</td>\n",
       "      <td>24</td>\n",
       "      <td>Male</td>\n",
       "      <td>92</td>\n",
       "      <td>Final Critic</td>\n",
       "      <td>4.88</td>\n",
       "    </tr>\n",
       "    <tr>\n",
       "      <td>3</td>\n",
       "      <td>3</td>\n",
       "      <td>Chamassasya86</td>\n",
       "      <td>24</td>\n",
       "      <td>Male</td>\n",
       "      <td>100</td>\n",
       "      <td>Blindscythe</td>\n",
       "      <td>3.27</td>\n",
       "    </tr>\n",
       "    <tr>\n",
       "      <td>4</td>\n",
       "      <td>4</td>\n",
       "      <td>Iskosia90</td>\n",
       "      <td>23</td>\n",
       "      <td>Male</td>\n",
       "      <td>131</td>\n",
       "      <td>Fury</td>\n",
       "      <td>1.44</td>\n",
       "    </tr>\n",
       "    <tr>\n",
       "      <td>...</td>\n",
       "      <td>...</td>\n",
       "      <td>...</td>\n",
       "      <td>...</td>\n",
       "      <td>...</td>\n",
       "      <td>...</td>\n",
       "      <td>...</td>\n",
       "      <td>...</td>\n",
       "    </tr>\n",
       "    <tr>\n",
       "      <td>775</td>\n",
       "      <td>775</td>\n",
       "      <td>Aethedru70</td>\n",
       "      <td>21</td>\n",
       "      <td>Female</td>\n",
       "      <td>60</td>\n",
       "      <td>Wolf</td>\n",
       "      <td>3.54</td>\n",
       "    </tr>\n",
       "    <tr>\n",
       "      <td>776</td>\n",
       "      <td>776</td>\n",
       "      <td>Iral74</td>\n",
       "      <td>21</td>\n",
       "      <td>Male</td>\n",
       "      <td>164</td>\n",
       "      <td>Exiled Doomblade</td>\n",
       "      <td>1.63</td>\n",
       "    </tr>\n",
       "    <tr>\n",
       "      <td>777</td>\n",
       "      <td>777</td>\n",
       "      <td>Yathecal72</td>\n",
       "      <td>20</td>\n",
       "      <td>Male</td>\n",
       "      <td>67</td>\n",
       "      <td>Celeste, Incarnation of the Corrupted</td>\n",
       "      <td>3.46</td>\n",
       "    </tr>\n",
       "    <tr>\n",
       "      <td>778</td>\n",
       "      <td>778</td>\n",
       "      <td>Sisur91</td>\n",
       "      <td>7</td>\n",
       "      <td>Male</td>\n",
       "      <td>92</td>\n",
       "      <td>Final Critic</td>\n",
       "      <td>4.19</td>\n",
       "    </tr>\n",
       "    <tr>\n",
       "      <td>779</td>\n",
       "      <td>779</td>\n",
       "      <td>Ennrian78</td>\n",
       "      <td>24</td>\n",
       "      <td>Male</td>\n",
       "      <td>50</td>\n",
       "      <td>Dawn</td>\n",
       "      <td>4.60</td>\n",
       "    </tr>\n",
       "  </tbody>\n",
       "</table>\n",
       "<p>780 rows × 7 columns</p>\n",
       "</div>"
      ],
      "text/plain": [
       "     Purchase ID             SN  Age  Gender  Item ID  \\\n",
       "0              0        Lisim78   20    Male      108   \n",
       "1              1    Lisovynya38   40    Male      143   \n",
       "2              2     Ithergue48   24    Male       92   \n",
       "3              3  Chamassasya86   24    Male      100   \n",
       "4              4      Iskosia90   23    Male      131   \n",
       "..           ...            ...  ...     ...      ...   \n",
       "775          775     Aethedru70   21  Female       60   \n",
       "776          776         Iral74   21    Male      164   \n",
       "777          777     Yathecal72   20    Male       67   \n",
       "778          778        Sisur91    7    Male       92   \n",
       "779          779      Ennrian78   24    Male       50   \n",
       "\n",
       "                                     Item Name  Price  \n",
       "0    Extraction, Quickblade Of Trembling Hands   3.53  \n",
       "1                            Frenzied Scimitar   1.56  \n",
       "2                                 Final Critic   4.88  \n",
       "3                                  Blindscythe   3.27  \n",
       "4                                         Fury   1.44  \n",
       "..                                         ...    ...  \n",
       "775                                       Wolf   3.54  \n",
       "776                           Exiled Doomblade   1.63  \n",
       "777      Celeste, Incarnation of the Corrupted   3.46  \n",
       "778                               Final Critic   4.19  \n",
       "779                                       Dawn   4.60  \n",
       "\n",
       "[780 rows x 7 columns]"
      ]
     },
     "execution_count": 1,
     "metadata": {},
     "output_type": "execute_result"
    }
   ],
   "source": [
    "# Dependencies and Setup\n",
    "import pandas as pd\n",
    "\n",
    "# File to Load (Remember to Change These)\n",
    "file_to_load = \"purchase_data.csv\"\n",
    "\n",
    "# Read Purchasing File and store into Pandas data frame\n",
    "purchase_data = pd.read_csv(file_to_load)\n",
    "\n",
    "purchase_data"
   ]
  },
  {
   "cell_type": "markdown",
   "metadata": {},
   "source": [
    "## Player Count"
   ]
  },
  {
   "cell_type": "markdown",
   "metadata": {},
   "source": [
    "* Display the total number of players\n"
   ]
  },
  {
   "cell_type": "code",
   "execution_count": 2,
   "metadata": {},
   "outputs": [
    {
     "data": {
      "text/html": [
       "<div>\n",
       "<style scoped>\n",
       "    .dataframe tbody tr th:only-of-type {\n",
       "        vertical-align: middle;\n",
       "    }\n",
       "\n",
       "    .dataframe tbody tr th {\n",
       "        vertical-align: top;\n",
       "    }\n",
       "\n",
       "    .dataframe thead th {\n",
       "        text-align: right;\n",
       "    }\n",
       "</style>\n",
       "<table border=\"1\" class=\"dataframe\">\n",
       "  <thead>\n",
       "    <tr style=\"text-align: right;\">\n",
       "      <th></th>\n",
       "      <th>Total Players</th>\n",
       "    </tr>\n",
       "  </thead>\n",
       "  <tbody>\n",
       "    <tr>\n",
       "      <td>0</td>\n",
       "      <td>576</td>\n",
       "    </tr>\n",
       "  </tbody>\n",
       "</table>\n",
       "</div>"
      ],
      "text/plain": [
       "   Total Players\n",
       "0            576"
      ]
     },
     "execution_count": 2,
     "metadata": {},
     "output_type": "execute_result"
    }
   ],
   "source": [
    "Unique_players = purchase_data[\"SN\"].unique()\n",
    "Total_Players = len(Unique_players)\n",
    "Total_Players_df = pd.DataFrame({\n",
    "    \"Total Players\":[Total_Players],\n",
    "})\n",
    "Total_Players_df.head()"
   ]
  },
  {
   "cell_type": "markdown",
   "metadata": {},
   "source": [
    "## Purchasing Analysis (Total)"
   ]
  },
  {
   "cell_type": "markdown",
   "metadata": {},
   "source": [
    "* Run basic calculations to obtain number of unique items, average price, etc.\n",
    "\n",
    "\n",
    "* Create a summary data frame to hold the results\n",
    "\n",
    "\n",
    "* Optional: give the displayed data cleaner formatting\n",
    "\n",
    "\n",
    "* Display the summary data frame\n"
   ]
  },
  {
   "cell_type": "code",
   "execution_count": 3,
   "metadata": {
    "scrolled": true
   },
   "outputs": [
    {
     "data": {
      "text/html": [
       "<div>\n",
       "<style scoped>\n",
       "    .dataframe tbody tr th:only-of-type {\n",
       "        vertical-align: middle;\n",
       "    }\n",
       "\n",
       "    .dataframe tbody tr th {\n",
       "        vertical-align: top;\n",
       "    }\n",
       "\n",
       "    .dataframe thead th {\n",
       "        text-align: right;\n",
       "    }\n",
       "</style>\n",
       "<table border=\"1\" class=\"dataframe\">\n",
       "  <thead>\n",
       "    <tr style=\"text-align: right;\">\n",
       "      <th></th>\n",
       "      <th>Number of Unique Items</th>\n",
       "      <th>Average Price</th>\n",
       "      <th>Number of Purchases</th>\n",
       "      <th>Total Revenue</th>\n",
       "    </tr>\n",
       "  </thead>\n",
       "  <tbody>\n",
       "    <tr>\n",
       "      <td>0</td>\n",
       "      <td>179</td>\n",
       "      <td>3.050987</td>\n",
       "      <td>780</td>\n",
       "      <td>2379.77</td>\n",
       "    </tr>\n",
       "  </tbody>\n",
       "</table>\n",
       "</div>"
      ],
      "text/plain": [
       "   Number of Unique Items  Average Price  Number of Purchases  Total Revenue\n",
       "0                     179       3.050987                  780        2379.77"
      ]
     },
     "execution_count": 3,
     "metadata": {},
     "output_type": "execute_result"
    }
   ],
   "source": [
    "training_df = pd.DataFrame({\n",
    "    \"Number of Unique Items\":[len(purchase_data[\"Item ID\"].unique())],\n",
    "    \"Average Price\": [purchase_data[\"Price\"].mean()],\n",
    "    \"Number of Purchases\":[purchase_data[\"Price\"].count()],\n",
    "    \"Total Revenue\":[purchase_data[\"Price\"].sum()]\n",
    "})\n",
    "\n",
    "training_df.head()"
   ]
  },
  {
   "cell_type": "markdown",
   "metadata": {},
   "source": [
    "## Gender Demographics"
   ]
  },
  {
   "cell_type": "markdown",
   "metadata": {},
   "source": [
    "* Percentage and Count of Male Players\n",
    "\n",
    "\n",
    "* Percentage and Count of Female Players\n",
    "\n",
    "\n",
    "* Percentage and Count of Other / Non-Disclosed\n",
    "\n",
    "\n"
   ]
  },
  {
   "cell_type": "code",
   "execution_count": 5,
   "metadata": {},
   "outputs": [
    {
     "data": {
      "text/html": [
       "<div>\n",
       "<style scoped>\n",
       "    .dataframe tbody tr th:only-of-type {\n",
       "        vertical-align: middle;\n",
       "    }\n",
       "\n",
       "    .dataframe tbody tr th {\n",
       "        vertical-align: top;\n",
       "    }\n",
       "\n",
       "    .dataframe thead th {\n",
       "        text-align: right;\n",
       "    }\n",
       "</style>\n",
       "<table border=\"1\" class=\"dataframe\">\n",
       "  <thead>\n",
       "    <tr style=\"text-align: right;\">\n",
       "      <th></th>\n",
       "      <th>Total Count</th>\n",
       "      <th>Percentage of Players</th>\n",
       "    </tr>\n",
       "    <tr>\n",
       "      <th>Gender</th>\n",
       "      <th></th>\n",
       "      <th></th>\n",
       "    </tr>\n",
       "  </thead>\n",
       "  <tbody>\n",
       "    <tr>\n",
       "      <td>Male</td>\n",
       "      <td>652</td>\n",
       "      <td>83.59%</td>\n",
       "    </tr>\n",
       "    <tr>\n",
       "      <td>Female</td>\n",
       "      <td>113</td>\n",
       "      <td>14.49%</td>\n",
       "    </tr>\n",
       "    <tr>\n",
       "      <td>Other / Non-Disclosed</td>\n",
       "      <td>15</td>\n",
       "      <td>1.92%</td>\n",
       "    </tr>\n",
       "  </tbody>\n",
       "</table>\n",
       "</div>"
      ],
      "text/plain": [
       "                       Total Count Percentage of Players\n",
       "Gender                                                  \n",
       "Male                           652                83.59%\n",
       "Female                         113                14.49%\n",
       "Other / Non-Disclosed           15                 1.92%"
      ]
     },
     "execution_count": 5,
     "metadata": {},
     "output_type": "execute_result"
    }
   ],
   "source": [
    "values = purchase_data['Gender'].value_counts().keys().tolist()\n",
    "counts = purchase_data['Gender'].value_counts().tolist()\n",
    "percent = purchase_data['Gender'].value_counts(normalize=True).tolist()\n",
    "formattedpercent = [\"{:.2%}\".format(member) for member in percent]\n",
    "\n",
    "Gender_df = pd.DataFrame(list(zip(values, counts, formattedpercent)), \n",
    "               columns =['Gender', 'Total Count', 'Percentage of Players']) \n",
    "\n",
    "Gender_df = Gender_df.set_index(\"Gender\")\n",
    "Gender_df\n"
   ]
  },
  {
   "cell_type": "markdown",
   "metadata": {},
   "source": [
    "\n",
    "## Purchasing Analysis (Gender)"
   ]
  },
  {
   "cell_type": "markdown",
   "metadata": {},
   "source": [
    "* Run basic calculations to obtain purchase count, avg. purchase price, avg. purchase total per person etc. by gender\n",
    "\n",
    "\n",
    "\n",
    "\n",
    "* Create a summary data frame to hold the results\n",
    "\n",
    "\n",
    "* Optional: give the displayed data cleaner formatting\n",
    "\n",
    "\n",
    "* Display the summary data frame"
   ]
  },
  {
   "cell_type": "code",
   "execution_count": 6,
   "metadata": {},
   "outputs": [
    {
     "data": {
      "text/html": [
       "<div>\n",
       "<style scoped>\n",
       "    .dataframe tbody tr th:only-of-type {\n",
       "        vertical-align: middle;\n",
       "    }\n",
       "\n",
       "    .dataframe tbody tr th {\n",
       "        vertical-align: top;\n",
       "    }\n",
       "\n",
       "    .dataframe thead th {\n",
       "        text-align: right;\n",
       "    }\n",
       "</style>\n",
       "<table border=\"1\" class=\"dataframe\">\n",
       "  <thead>\n",
       "    <tr style=\"text-align: right;\">\n",
       "      <th></th>\n",
       "      <th>Purchase Count</th>\n",
       "      <th>Average Purchase Price</th>\n",
       "      <th>Total Purchas Value</th>\n",
       "      <th>Average Purchase per Person</th>\n",
       "    </tr>\n",
       "  </thead>\n",
       "  <tbody>\n",
       "    <tr>\n",
       "      <td>0</td>\n",
       "      <td>780</td>\n",
       "      <td>3.050987</td>\n",
       "      <td>2379.77</td>\n",
       "      <td>4.131545</td>\n",
       "    </tr>\n",
       "  </tbody>\n",
       "</table>\n",
       "</div>"
      ],
      "text/plain": [
       "   Purchase Count  Average Purchase Price  Total Purchas Value  \\\n",
       "0             780                3.050987              2379.77   \n",
       "\n",
       "   Average Purchase per Person  \n",
       "0                     4.131545  "
      ]
     },
     "execution_count": 6,
     "metadata": {},
     "output_type": "execute_result"
    }
   ],
   "source": [
    "Purchasing_df = pd.DataFrame({\n",
    "    #\"Gender\": [\"Male\", \"Female\", \"Other / Non-Disclosed\" ],\n",
    "    \"Purchase Count\": [purchase_data[\"Price\"].count()],\n",
    "    \"Average Purchase Price\":[purchase_data[\"Price\"].mean()],\n",
    "    \"Total Purchas Value\":[purchase_data[\"Price\"].sum()],\n",
    "    \"Average Purchase per Person\":[purchase_data[\"Price\"].sum()/Total_Players],\n",
    "})\n",
    "#Purchasing_df = Gender_df.set_index(\"Gender\")\n",
    "Purchasing_df.head()"
   ]
  },
  {
   "cell_type": "code",
   "execution_count": 7,
   "metadata": {},
   "outputs": [
    {
     "data": {
      "text/html": [
       "<div>\n",
       "<style scoped>\n",
       "    .dataframe tbody tr th:only-of-type {\n",
       "        vertical-align: middle;\n",
       "    }\n",
       "\n",
       "    .dataframe tbody tr th {\n",
       "        vertical-align: top;\n",
       "    }\n",
       "\n",
       "    .dataframe thead th {\n",
       "        text-align: right;\n",
       "    }\n",
       "</style>\n",
       "<table border=\"1\" class=\"dataframe\">\n",
       "  <thead>\n",
       "    <tr style=\"text-align: right;\">\n",
       "      <th></th>\n",
       "      <th>Purchase Count</th>\n",
       "      <th>Average Purchase Price</th>\n",
       "      <th>Total Purchas Value</th>\n",
       "      <th>Average Purchase per Person</th>\n",
       "    </tr>\n",
       "    <tr>\n",
       "      <th>Gender</th>\n",
       "      <th></th>\n",
       "      <th></th>\n",
       "      <th></th>\n",
       "      <th></th>\n",
       "    </tr>\n",
       "  </thead>\n",
       "  <tbody>\n",
       "    <tr>\n",
       "      <td>Male</td>\n",
       "      <td>652</td>\n",
       "      <td>$3.02</td>\n",
       "      <td>$1,967.64</td>\n",
       "      <td>4.07%</td>\n",
       "    </tr>\n",
       "  </tbody>\n",
       "</table>\n",
       "</div>"
      ],
      "text/plain": [
       "        Purchase Count Average Purchase Price Total Purchas Value  \\\n",
       "Gender                                                              \n",
       "Male               652                  $3.02           $1,967.64   \n",
       "\n",
       "       Average Purchase per Person  \n",
       "Gender                              \n",
       "Male                         4.07%  "
      ]
     },
     "execution_count": 7,
     "metadata": {},
     "output_type": "execute_result"
    }
   ],
   "source": [
    "#Aqui se hara en un formato de sacar los datos individuales para despues hacer el DF general \n",
    "# y hacer las operaciones. En los ejercicios de abajo ya se harn en codigo mas eficiente.\n",
    "\n",
    "\n",
    "#DF Para hacer las operaciones Masculinas\n",
    "Data = [\"SN\", \"Age\",\"Gender\", \"Item ID\", \"Item Name\",\"Price\"]\n",
    "MData = purchase_data.loc[purchase_data[\"Gender\"]==\"Male\",Data]\n",
    "MData = MData.set_index(\"Gender\")\n",
    "MCData = MData[\"Price\"].count()\n",
    "MPData = MData[\"Price\"].mean()\n",
    "MTData = MData[\"Price\"].sum()\n",
    "MUData = len(MData[\"SN\"].unique())\n",
    "MPTData = MTData/MUData\n",
    "MData_df = pd.DataFrame({\n",
    "    \"Gender\":[\"Male\"],\n",
    "    \"Purchase Count\": [MCData],\n",
    "    \"Average Purchase Price\":[\"${:,.2f}\".format(MPData)],\n",
    "    \"Total Purchas Value\":[\"${:,.2f}\".format(MTData)],\n",
    "    \"Average Purchase per Person\":[\"{:.2f}%\".format(MPTData)],\n",
    "})\n",
    "MData_df = MData_df.set_index(\"Gender\")\n",
    "MData_df"
   ]
  },
  {
   "cell_type": "code",
   "execution_count": 8,
   "metadata": {},
   "outputs": [
    {
     "data": {
      "text/html": [
       "<div>\n",
       "<style scoped>\n",
       "    .dataframe tbody tr th:only-of-type {\n",
       "        vertical-align: middle;\n",
       "    }\n",
       "\n",
       "    .dataframe tbody tr th {\n",
       "        vertical-align: top;\n",
       "    }\n",
       "\n",
       "    .dataframe thead th {\n",
       "        text-align: right;\n",
       "    }\n",
       "</style>\n",
       "<table border=\"1\" class=\"dataframe\">\n",
       "  <thead>\n",
       "    <tr style=\"text-align: right;\">\n",
       "      <th></th>\n",
       "      <th>Purchase Count</th>\n",
       "      <th>Average Purchase Price</th>\n",
       "      <th>Total Purchas Value</th>\n",
       "      <th>Average Purchase per Person</th>\n",
       "    </tr>\n",
       "    <tr>\n",
       "      <th>Gender</th>\n",
       "      <th></th>\n",
       "      <th></th>\n",
       "      <th></th>\n",
       "      <th></th>\n",
       "    </tr>\n",
       "  </thead>\n",
       "  <tbody>\n",
       "    <tr>\n",
       "      <td>Female</td>\n",
       "      <td>113</td>\n",
       "      <td>$3.20</td>\n",
       "      <td>$361.94</td>\n",
       "      <td>4.47%</td>\n",
       "    </tr>\n",
       "  </tbody>\n",
       "</table>\n",
       "</div>"
      ],
      "text/plain": [
       "        Purchase Count Average Purchase Price Total Purchas Value  \\\n",
       "Gender                                                              \n",
       "Female             113                  $3.20             $361.94   \n",
       "\n",
       "       Average Purchase per Person  \n",
       "Gender                              \n",
       "Female                       4.47%  "
      ]
     },
     "execution_count": 8,
     "metadata": {},
     "output_type": "execute_result"
    }
   ],
   "source": [
    "#DF Para hacer las operaciones Femeninas\n",
    "FData = purchase_data.loc[purchase_data[\"Gender\"]==\"Female\",Data]\n",
    "FData = FData.set_index(\"Gender\")\n",
    "FCData = FData[\"Price\"].count()\n",
    "FPData = FData[\"Price\"].mean()\n",
    "FTData = FData[\"Price\"].sum()\n",
    "FUData = len(FData[\"SN\"].unique())\n",
    "FPTData = FTData/FUData\n",
    "FData_df = pd.DataFrame({\n",
    "    \"Gender\":[\"Female\"],\n",
    "    \"Purchase Count\": [FCData],\n",
    "    \"Average Purchase Price\":[\"${:,.2f}\".format(FPData)],\n",
    "    \"Total Purchas Value\":[\"${:,.2f}\".format(FTData)],\n",
    "    \"Average Purchase per Person\":[\"{:.2f}%\".format(FPTData)],\n",
    "})\n",
    "FData_df = FData_df.set_index(\"Gender\")\n",
    "FData_df"
   ]
  },
  {
   "cell_type": "code",
   "execution_count": 9,
   "metadata": {},
   "outputs": [
    {
     "data": {
      "text/html": [
       "<div>\n",
       "<style scoped>\n",
       "    .dataframe tbody tr th:only-of-type {\n",
       "        vertical-align: middle;\n",
       "    }\n",
       "\n",
       "    .dataframe tbody tr th {\n",
       "        vertical-align: top;\n",
       "    }\n",
       "\n",
       "    .dataframe thead th {\n",
       "        text-align: right;\n",
       "    }\n",
       "</style>\n",
       "<table border=\"1\" class=\"dataframe\">\n",
       "  <thead>\n",
       "    <tr style=\"text-align: right;\">\n",
       "      <th></th>\n",
       "      <th>Purchase Count</th>\n",
       "      <th>Average Purchase Price</th>\n",
       "      <th>Total Purchas Value</th>\n",
       "      <th>Average Purchase per Person</th>\n",
       "    </tr>\n",
       "    <tr>\n",
       "      <th>Gender</th>\n",
       "      <th></th>\n",
       "      <th></th>\n",
       "      <th></th>\n",
       "      <th></th>\n",
       "    </tr>\n",
       "  </thead>\n",
       "  <tbody>\n",
       "    <tr>\n",
       "      <td>Other / Non-Disclosed</td>\n",
       "      <td>15</td>\n",
       "      <td>$3.35</td>\n",
       "      <td>$50.19</td>\n",
       "      <td>4.56%</td>\n",
       "    </tr>\n",
       "  </tbody>\n",
       "</table>\n",
       "</div>"
      ],
      "text/plain": [
       "                       Purchase Count Average Purchase Price  \\\n",
       "Gender                                                         \n",
       "Other / Non-Disclosed              15                  $3.35   \n",
       "\n",
       "                      Total Purchas Value Average Purchase per Person  \n",
       "Gender                                                                 \n",
       "Other / Non-Disclosed              $50.19                       4.56%  "
      ]
     },
     "execution_count": 9,
     "metadata": {},
     "output_type": "execute_result"
    }
   ],
   "source": [
    "#DF Para hacer las operaciones Otras\n",
    "OData = purchase_data.loc[purchase_data[\"Gender\"]==\"Other / Non-Disclosed\",Data]\n",
    "OData = OData.set_index(\"Gender\")\n",
    "OCData = OData[\"Price\"].count()\n",
    "OPData = OData[\"Price\"].mean()\n",
    "OTData = OData[\"Price\"].sum()\n",
    "OUData = len(OData[\"SN\"].unique())\n",
    "OPTData = OTData/OUData\n",
    "OData_df = pd.DataFrame({\n",
    "    \"Gender\":[\"Other / Non-Disclosed\"],\n",
    "    \"Purchase Count\": [OCData],\n",
    "    \"Average Purchase Price\":[\"${:,.2f}\".format(OPData)],\n",
    "    \"Total Purchas Value\":[\"${:,.2f}\".format(OTData)],\n",
    "    \"Average Purchase per Person\":[\"{:.2f}%\".format(OPTData)],\n",
    "})\n",
    "OData_df = OData_df.set_index(\"Gender\")\n",
    "OData_df"
   ]
  },
  {
   "cell_type": "code",
   "execution_count": 10,
   "metadata": {},
   "outputs": [
    {
     "data": {
      "text/html": [
       "<div>\n",
       "<style scoped>\n",
       "    .dataframe tbody tr th:only-of-type {\n",
       "        vertical-align: middle;\n",
       "    }\n",
       "\n",
       "    .dataframe tbody tr th {\n",
       "        vertical-align: top;\n",
       "    }\n",
       "\n",
       "    .dataframe thead th {\n",
       "        text-align: right;\n",
       "    }\n",
       "</style>\n",
       "<table border=\"1\" class=\"dataframe\">\n",
       "  <thead>\n",
       "    <tr style=\"text-align: right;\">\n",
       "      <th></th>\n",
       "      <th>Purchase Count</th>\n",
       "      <th>Average Purchase Price</th>\n",
       "      <th>Total Purchas Value</th>\n",
       "      <th>Average Purchase per Person</th>\n",
       "    </tr>\n",
       "    <tr>\n",
       "      <th>Gender</th>\n",
       "      <th></th>\n",
       "      <th></th>\n",
       "      <th></th>\n",
       "      <th></th>\n",
       "    </tr>\n",
       "  </thead>\n",
       "  <tbody>\n",
       "    <tr>\n",
       "      <td>Male</td>\n",
       "      <td>652</td>\n",
       "      <td>$3.02</td>\n",
       "      <td>$1,967.64</td>\n",
       "      <td>4.07%</td>\n",
       "    </tr>\n",
       "    <tr>\n",
       "      <td>Female</td>\n",
       "      <td>113</td>\n",
       "      <td>$3.20</td>\n",
       "      <td>$361.94</td>\n",
       "      <td>4.47%</td>\n",
       "    </tr>\n",
       "    <tr>\n",
       "      <td>Other / Non-Disclosed</td>\n",
       "      <td>15</td>\n",
       "      <td>$3.35</td>\n",
       "      <td>$50.19</td>\n",
       "      <td>4.56%</td>\n",
       "    </tr>\n",
       "  </tbody>\n",
       "</table>\n",
       "</div>"
      ],
      "text/plain": [
       "                       Purchase Count Average Purchase Price  \\\n",
       "Gender                                                         \n",
       "Male                              652                  $3.02   \n",
       "Female                            113                  $3.20   \n",
       "Other / Non-Disclosed              15                  $3.35   \n",
       "\n",
       "                      Total Purchas Value Average Purchase per Person  \n",
       "Gender                                                                 \n",
       "Male                            $1,967.64                       4.07%  \n",
       "Female                            $361.94                       4.47%  \n",
       "Other / Non-Disclosed              $50.19                       4.56%  "
      ]
     },
     "execution_count": 10,
     "metadata": {},
     "output_type": "execute_result"
    }
   ],
   "source": [
    "#DF Para unir la informacion\n",
    "GenderAnalysis_df = pd.concat([MData_df,FData_df,OData_df], axis=0)\n",
    "GenderAnalysis_df"
   ]
  },
  {
   "cell_type": "markdown",
   "metadata": {},
   "source": [
    "## Age Demographics"
   ]
  },
  {
   "cell_type": "markdown",
   "metadata": {},
   "source": [
    "* Establish bins for ages\n",
    "\n",
    "\n",
    "* Categorize the existing players using the age bins. Hint: use pd.cut()\n",
    "\n",
    "\n",
    "* Calculate the numbers and percentages by age group\n",
    "\n",
    "\n",
    "* Create a summary data frame to hold the results\n",
    "\n",
    "\n",
    "* Optional: round the percentage column to two decimal points\n",
    "\n",
    "\n",
    "* Display Age Demographics Table\n"
   ]
  },
  {
   "cell_type": "code",
   "execution_count": 89,
   "metadata": {},
   "outputs": [],
   "source": [
    "#Utilizare ya un codigo lo mas eficiente que pueda.\n",
    "\n",
    "ages = ['>10','10-14','15-19','20-24','25-29','30-34','35-39','40+']\n",
    "purchase_data['Bin Ages'] = pd.cut(purchase_data.Age,range(5,49,5),right=False, labels=ages)\n",
    "purchase_data[\"Bin Ages\"].fillna(\"40+\", inplace = True)\n",
    "purchase_data.to_csv(\"PurchaseData2.csv\")"
   ]
  },
  {
   "cell_type": "code",
   "execution_count": 90,
   "metadata": {},
   "outputs": [],
   "source": [
    "PTotalCount = purchase_data.groupby([\"Bin Ages\"])[[\"Age\"]].count()\n",
    "PPerPlayers = (PTotalCount[\"Age\"] / Total_Players)*100\n",
    "PPerPlayersDF = pd.DataFrame(PPerPlayers)\n",
    "PPerPlayersDF = PPerPlayersDF.rename(columns={\"Age\":\"Percentage per Players\"})"
   ]
  },
  {
   "cell_type": "code",
   "execution_count": 91,
   "metadata": {},
   "outputs": [
    {
     "data": {
      "text/html": [
       "<style  type=\"text/css\" >\n",
       "</style><table id=\"T_db77ae3c_8582_11ea_bec2_406c8f0ff2fb\" ><thead>    <tr>        <th class=\"blank level0\" ></th>        <th class=\"col_heading level0 col0\" >Age</th>        <th class=\"col_heading level0 col1\" >Percentage per Players</th>    </tr>    <tr>        <th class=\"index_name level0\" >Bin Ages</th>        <th class=\"blank\" ></th>        <th class=\"blank\" ></th>    </tr></thead><tbody>\n",
       "                <tr>\n",
       "                        <th id=\"T_db77ae3c_8582_11ea_bec2_406c8f0ff2fblevel0_row0\" class=\"row_heading level0 row0\" >>10</th>\n",
       "                        <td id=\"T_db77ae3c_8582_11ea_bec2_406c8f0ff2fbrow0_col0\" class=\"data row0 col0\" >23</td>\n",
       "                        <td id=\"T_db77ae3c_8582_11ea_bec2_406c8f0ff2fbrow0_col1\" class=\"data row0 col1\" >3.99%</td>\n",
       "            </tr>\n",
       "            <tr>\n",
       "                        <th id=\"T_db77ae3c_8582_11ea_bec2_406c8f0ff2fblevel0_row1\" class=\"row_heading level0 row1\" >10-14</th>\n",
       "                        <td id=\"T_db77ae3c_8582_11ea_bec2_406c8f0ff2fbrow1_col0\" class=\"data row1 col0\" >28</td>\n",
       "                        <td id=\"T_db77ae3c_8582_11ea_bec2_406c8f0ff2fbrow1_col1\" class=\"data row1 col1\" >4.86%</td>\n",
       "            </tr>\n",
       "            <tr>\n",
       "                        <th id=\"T_db77ae3c_8582_11ea_bec2_406c8f0ff2fblevel0_row2\" class=\"row_heading level0 row2\" >15-19</th>\n",
       "                        <td id=\"T_db77ae3c_8582_11ea_bec2_406c8f0ff2fbrow2_col0\" class=\"data row2 col0\" >136</td>\n",
       "                        <td id=\"T_db77ae3c_8582_11ea_bec2_406c8f0ff2fbrow2_col1\" class=\"data row2 col1\" >23.61%</td>\n",
       "            </tr>\n",
       "            <tr>\n",
       "                        <th id=\"T_db77ae3c_8582_11ea_bec2_406c8f0ff2fblevel0_row3\" class=\"row_heading level0 row3\" >20-24</th>\n",
       "                        <td id=\"T_db77ae3c_8582_11ea_bec2_406c8f0ff2fbrow3_col0\" class=\"data row3 col0\" >365</td>\n",
       "                        <td id=\"T_db77ae3c_8582_11ea_bec2_406c8f0ff2fbrow3_col1\" class=\"data row3 col1\" >63.37%</td>\n",
       "            </tr>\n",
       "            <tr>\n",
       "                        <th id=\"T_db77ae3c_8582_11ea_bec2_406c8f0ff2fblevel0_row4\" class=\"row_heading level0 row4\" >25-29</th>\n",
       "                        <td id=\"T_db77ae3c_8582_11ea_bec2_406c8f0ff2fbrow4_col0\" class=\"data row4 col0\" >101</td>\n",
       "                        <td id=\"T_db77ae3c_8582_11ea_bec2_406c8f0ff2fbrow4_col1\" class=\"data row4 col1\" >17.53%</td>\n",
       "            </tr>\n",
       "            <tr>\n",
       "                        <th id=\"T_db77ae3c_8582_11ea_bec2_406c8f0ff2fblevel0_row5\" class=\"row_heading level0 row5\" >30-34</th>\n",
       "                        <td id=\"T_db77ae3c_8582_11ea_bec2_406c8f0ff2fbrow5_col0\" class=\"data row5 col0\" >73</td>\n",
       "                        <td id=\"T_db77ae3c_8582_11ea_bec2_406c8f0ff2fbrow5_col1\" class=\"data row5 col1\" >12.67%</td>\n",
       "            </tr>\n",
       "            <tr>\n",
       "                        <th id=\"T_db77ae3c_8582_11ea_bec2_406c8f0ff2fblevel0_row6\" class=\"row_heading level0 row6\" >35-39</th>\n",
       "                        <td id=\"T_db77ae3c_8582_11ea_bec2_406c8f0ff2fbrow6_col0\" class=\"data row6 col0\" >41</td>\n",
       "                        <td id=\"T_db77ae3c_8582_11ea_bec2_406c8f0ff2fbrow6_col1\" class=\"data row6 col1\" >7.12%</td>\n",
       "            </tr>\n",
       "            <tr>\n",
       "                        <th id=\"T_db77ae3c_8582_11ea_bec2_406c8f0ff2fblevel0_row7\" class=\"row_heading level0 row7\" >40+</th>\n",
       "                        <td id=\"T_db77ae3c_8582_11ea_bec2_406c8f0ff2fbrow7_col0\" class=\"data row7 col0\" >13</td>\n",
       "                        <td id=\"T_db77ae3c_8582_11ea_bec2_406c8f0ff2fbrow7_col1\" class=\"data row7 col1\" >2.26%</td>\n",
       "            </tr>\n",
       "    </tbody></table>"
      ],
      "text/plain": [
       "<pandas.io.formats.style.Styler at 0x1160dbd10>"
      ]
     },
     "execution_count": 91,
     "metadata": {},
     "output_type": "execute_result"
    }
   ],
   "source": [
    "AgeDem_df = pd.concat([PTotalCount, PPerPlayersDF], axis=1)\n",
    "AgeDem_df = AgeDem_df.style.format({'Percentage per Players': \"{:.2f}%\"})\n",
    "AgeDem_df"
   ]
  },
  {
   "cell_type": "markdown",
   "metadata": {},
   "source": [
    "#AGE PURCHASING ANALYSIS"
   ]
  },
  {
   "cell_type": "markdown",
   "metadata": {},
   "source": [
    "* Bin the purchase_data data frame by age\n",
    "\n",
    "\n",
    "* Run basic calculations to obtain purchase count, avg. purchase price, avg. purchase total per person etc. in the table below\n",
    "\n",
    "\n",
    "* Create a summary data frame to hold the results\n",
    "\n",
    "\n",
    "* Optional: give the displayed data cleaner formatting\n",
    "\n",
    "\n",
    "* Display the summary data frame"
   ]
  },
  {
   "cell_type": "code",
   "execution_count": 15,
   "metadata": {},
   "outputs": [],
   "source": [
    "PPurCount = purchase_data.groupby([\"Bin Ages\"])[[\"Purchase ID\"]].count()\n",
    "PPurCount = PPurCount.rename(columns={\"Purchase ID\":\"Purchase Count\"})\n",
    "PTotPurVal = purchase_data.groupby([\"Bin Ages\"])[[\"Price\"]].sum()\n",
    "PAvePurPrice = PTotPurVal[\"Price\"]/PPurCount[\"Purchase Count\"]\n",
    "PAvePurPrice = pd.DataFrame(PAvePurPrice)\n",
    "PAvePurPrice = PAvePurPrice.rename(columns={0:\"Average Purchase Price\"})\n",
    "a = purchase_data.groupby([\"Bin Ages\"])[[\"SN\"]].nunique()\n",
    "PAveTotPur = PTotPurVal[\"Price\"]/a[\"SN\"]"
   ]
  },
  {
   "cell_type": "code",
   "execution_count": 16,
   "metadata": {},
   "outputs": [
    {
     "data": {
      "text/html": [
       "<style  type=\"text/css\" >\n",
       "</style><table id=\"T_77cb861e_8579_11ea_bec2_406c8f0ff2fb\" ><thead>    <tr>        <th class=\"blank level0\" ></th>        <th class=\"col_heading level0 col0\" >Purchase Count</th>        <th class=\"col_heading level0 col1\" >Average Purchase Price</th>        <th class=\"col_heading level0 col2\" >Total Purchase Value</th>        <th class=\"col_heading level0 col3\" >Average Total Purchase per Person</th>    </tr>    <tr>        <th class=\"index_name level0\" >Bin Ages</th>        <th class=\"blank\" ></th>        <th class=\"blank\" ></th>        <th class=\"blank\" ></th>        <th class=\"blank\" ></th>    </tr></thead><tbody>\n",
       "                <tr>\n",
       "                        <th id=\"T_77cb861e_8579_11ea_bec2_406c8f0ff2fblevel0_row0\" class=\"row_heading level0 row0\" >>10</th>\n",
       "                        <td id=\"T_77cb861e_8579_11ea_bec2_406c8f0ff2fbrow0_col0\" class=\"data row0 col0\" >23</td>\n",
       "                        <td id=\"T_77cb861e_8579_11ea_bec2_406c8f0ff2fbrow0_col1\" class=\"data row0 col1\" >$3.35</td>\n",
       "                        <td id=\"T_77cb861e_8579_11ea_bec2_406c8f0ff2fbrow0_col2\" class=\"data row0 col2\" >$77.13</td>\n",
       "                        <td id=\"T_77cb861e_8579_11ea_bec2_406c8f0ff2fbrow0_col3\" class=\"data row0 col3\" >$4.54</td>\n",
       "            </tr>\n",
       "            <tr>\n",
       "                        <th id=\"T_77cb861e_8579_11ea_bec2_406c8f0ff2fblevel0_row1\" class=\"row_heading level0 row1\" >10-14</th>\n",
       "                        <td id=\"T_77cb861e_8579_11ea_bec2_406c8f0ff2fbrow1_col0\" class=\"data row1 col0\" >28</td>\n",
       "                        <td id=\"T_77cb861e_8579_11ea_bec2_406c8f0ff2fbrow1_col1\" class=\"data row1 col1\" >$2.96</td>\n",
       "                        <td id=\"T_77cb861e_8579_11ea_bec2_406c8f0ff2fbrow1_col2\" class=\"data row1 col2\" >$82.78</td>\n",
       "                        <td id=\"T_77cb861e_8579_11ea_bec2_406c8f0ff2fbrow1_col3\" class=\"data row1 col3\" >$3.76</td>\n",
       "            </tr>\n",
       "            <tr>\n",
       "                        <th id=\"T_77cb861e_8579_11ea_bec2_406c8f0ff2fblevel0_row2\" class=\"row_heading level0 row2\" >15-19</th>\n",
       "                        <td id=\"T_77cb861e_8579_11ea_bec2_406c8f0ff2fbrow2_col0\" class=\"data row2 col0\" >136</td>\n",
       "                        <td id=\"T_77cb861e_8579_11ea_bec2_406c8f0ff2fbrow2_col1\" class=\"data row2 col1\" >$3.04</td>\n",
       "                        <td id=\"T_77cb861e_8579_11ea_bec2_406c8f0ff2fbrow2_col2\" class=\"data row2 col2\" >$412.89</td>\n",
       "                        <td id=\"T_77cb861e_8579_11ea_bec2_406c8f0ff2fbrow2_col3\" class=\"data row2 col3\" >$3.86</td>\n",
       "            </tr>\n",
       "            <tr>\n",
       "                        <th id=\"T_77cb861e_8579_11ea_bec2_406c8f0ff2fblevel0_row3\" class=\"row_heading level0 row3\" >20-24</th>\n",
       "                        <td id=\"T_77cb861e_8579_11ea_bec2_406c8f0ff2fbrow3_col0\" class=\"data row3 col0\" >365</td>\n",
       "                        <td id=\"T_77cb861e_8579_11ea_bec2_406c8f0ff2fbrow3_col1\" class=\"data row3 col1\" >$3.05</td>\n",
       "                        <td id=\"T_77cb861e_8579_11ea_bec2_406c8f0ff2fbrow3_col2\" class=\"data row3 col2\" >$1,114.06</td>\n",
       "                        <td id=\"T_77cb861e_8579_11ea_bec2_406c8f0ff2fbrow3_col3\" class=\"data row3 col3\" >$4.32</td>\n",
       "            </tr>\n",
       "            <tr>\n",
       "                        <th id=\"T_77cb861e_8579_11ea_bec2_406c8f0ff2fblevel0_row4\" class=\"row_heading level0 row4\" >25-29</th>\n",
       "                        <td id=\"T_77cb861e_8579_11ea_bec2_406c8f0ff2fbrow4_col0\" class=\"data row4 col0\" >101</td>\n",
       "                        <td id=\"T_77cb861e_8579_11ea_bec2_406c8f0ff2fbrow4_col1\" class=\"data row4 col1\" >$2.90</td>\n",
       "                        <td id=\"T_77cb861e_8579_11ea_bec2_406c8f0ff2fbrow4_col2\" class=\"data row4 col2\" >$293.00</td>\n",
       "                        <td id=\"T_77cb861e_8579_11ea_bec2_406c8f0ff2fbrow4_col3\" class=\"data row4 col3\" >$3.81</td>\n",
       "            </tr>\n",
       "            <tr>\n",
       "                        <th id=\"T_77cb861e_8579_11ea_bec2_406c8f0ff2fblevel0_row5\" class=\"row_heading level0 row5\" >30-34</th>\n",
       "                        <td id=\"T_77cb861e_8579_11ea_bec2_406c8f0ff2fbrow5_col0\" class=\"data row5 col0\" >73</td>\n",
       "                        <td id=\"T_77cb861e_8579_11ea_bec2_406c8f0ff2fbrow5_col1\" class=\"data row5 col1\" >$2.93</td>\n",
       "                        <td id=\"T_77cb861e_8579_11ea_bec2_406c8f0ff2fbrow5_col2\" class=\"data row5 col2\" >$214.00</td>\n",
       "                        <td id=\"T_77cb861e_8579_11ea_bec2_406c8f0ff2fbrow5_col3\" class=\"data row5 col3\" >$4.12</td>\n",
       "            </tr>\n",
       "            <tr>\n",
       "                        <th id=\"T_77cb861e_8579_11ea_bec2_406c8f0ff2fblevel0_row6\" class=\"row_heading level0 row6\" >35-39</th>\n",
       "                        <td id=\"T_77cb861e_8579_11ea_bec2_406c8f0ff2fbrow6_col0\" class=\"data row6 col0\" >41</td>\n",
       "                        <td id=\"T_77cb861e_8579_11ea_bec2_406c8f0ff2fbrow6_col1\" class=\"data row6 col1\" >$3.60</td>\n",
       "                        <td id=\"T_77cb861e_8579_11ea_bec2_406c8f0ff2fbrow6_col2\" class=\"data row6 col2\" >$147.67</td>\n",
       "                        <td id=\"T_77cb861e_8579_11ea_bec2_406c8f0ff2fbrow6_col3\" class=\"data row6 col3\" >$4.76</td>\n",
       "            </tr>\n",
       "            <tr>\n",
       "                        <th id=\"T_77cb861e_8579_11ea_bec2_406c8f0ff2fblevel0_row7\" class=\"row_heading level0 row7\" >40+</th>\n",
       "                        <td id=\"T_77cb861e_8579_11ea_bec2_406c8f0ff2fbrow7_col0\" class=\"data row7 col0\" >13</td>\n",
       "                        <td id=\"T_77cb861e_8579_11ea_bec2_406c8f0ff2fbrow7_col1\" class=\"data row7 col1\" >$2.94</td>\n",
       "                        <td id=\"T_77cb861e_8579_11ea_bec2_406c8f0ff2fbrow7_col2\" class=\"data row7 col2\" >$38.24</td>\n",
       "                        <td id=\"T_77cb861e_8579_11ea_bec2_406c8f0ff2fbrow7_col3\" class=\"data row7 col3\" >$3.19</td>\n",
       "            </tr>\n",
       "    </tbody></table>"
      ],
      "text/plain": [
       "<pandas.io.formats.style.Styler at 0x1146764d0>"
      ]
     },
     "execution_count": 16,
     "metadata": {},
     "output_type": "execute_result"
    }
   ],
   "source": [
    "AgePur_df = pd.concat([PPurCount, PAvePurPrice, PTotPurVal, PAveTotPur], axis=1)\n",
    "AgePur_df = AgePur_df.rename(columns={\"Price\":\"Total Purchase Value\",0:\"Average Total Purchase per Person\" })\n",
    "AgePur_df = AgePur_df.style.format({'Average Purchase Price': \"${:.2f}\",'Total Purchase Value': \"${:,.2f}\",'Average Total Purchase per Person': \"${:,.2f}\"})\n",
    "AgePur_df"
   ]
  },
  {
   "cell_type": "markdown",
   "metadata": {},
   "source": [
    "## Top Spenders"
   ]
  },
  {
   "cell_type": "markdown",
   "metadata": {},
   "source": [
    "* Run basic calculations to obtain the results in the table below\n",
    "\n",
    "\n",
    "* Create a summary data frame to hold the results\n",
    "\n",
    "\n",
    "* Sort the total purchase value column in descending order\n",
    "\n",
    "\n",
    "* Optional: give the displayed data cleaner formatting\n",
    "\n",
    "\n",
    "* Display a preview of the summary data frame\n",
    "\n"
   ]
  },
  {
   "cell_type": "code",
   "execution_count": 18,
   "metadata": {
    "collapsed": true
   },
   "outputs": [
    {
     "ename": "KeyError",
     "evalue": "\"None of [Index(['Lisosia93', 'Idastidru52', 'Chamjask73', 'Iral74', 'Iskadarya95'], dtype='object')] are in the [index]\"",
     "output_type": "error",
     "traceback": [
      "\u001b[0;31m---------------------------------------------------------------------------\u001b[0m",
      "\u001b[0;31mKeyError\u001b[0m                                  Traceback (most recent call last)",
      "\u001b[0;32m<ipython-input-18-3c1765aed982>\u001b[0m in \u001b[0;36m<module>\u001b[0;34m\u001b[0m\n\u001b[1;32m      1\u001b[0m \u001b[0;31m#purchase_data = purchase_data.set_index(\"SN\")\u001b[0m\u001b[0;34m\u001b[0m\u001b[0;34m\u001b[0m\u001b[0;34m\u001b[0m\u001b[0m\n\u001b[0;32m----> 2\u001b[0;31m \u001b[0mTopSpend\u001b[0m \u001b[0;34m=\u001b[0m \u001b[0mpurchase_data\u001b[0m\u001b[0;34m.\u001b[0m\u001b[0mloc\u001b[0m\u001b[0;34m[\u001b[0m\u001b[0;34m[\u001b[0m\u001b[0;34m\"Lisosia93\"\u001b[0m\u001b[0;34m,\u001b[0m\u001b[0;34m\"Idastidru52\"\u001b[0m\u001b[0;34m,\u001b[0m\u001b[0;34m\"Chamjask73\"\u001b[0m\u001b[0;34m,\u001b[0m\u001b[0;34m\"Iral74\"\u001b[0m\u001b[0;34m,\u001b[0m\u001b[0;34m\"Iskadarya95\"\u001b[0m\u001b[0;34m]\u001b[0m\u001b[0;34m,\u001b[0m\u001b[0;34m[\u001b[0m\u001b[0;34m\"Price\"\u001b[0m\u001b[0;34m]\u001b[0m\u001b[0;34m]\u001b[0m\u001b[0;34m\u001b[0m\u001b[0;34m\u001b[0m\u001b[0m\n\u001b[0m\u001b[1;32m      3\u001b[0m \u001b[0mCounTS\u001b[0m \u001b[0;34m=\u001b[0m \u001b[0mTopSpend\u001b[0m\u001b[0;34m.\u001b[0m\u001b[0mgroupby\u001b[0m\u001b[0;34m(\u001b[0m\u001b[0;34m[\u001b[0m\u001b[0;34m\"SN\"\u001b[0m\u001b[0;34m]\u001b[0m\u001b[0;34m)\u001b[0m\u001b[0;34m[\u001b[0m\u001b[0;34m[\u001b[0m\u001b[0;34m\"Price\"\u001b[0m\u001b[0;34m]\u001b[0m\u001b[0;34m]\u001b[0m\u001b[0;34m.\u001b[0m\u001b[0mcount\u001b[0m\u001b[0;34m(\u001b[0m\u001b[0;34m)\u001b[0m\u001b[0;34m\u001b[0m\u001b[0;34m\u001b[0m\u001b[0m\n\u001b[1;32m      4\u001b[0m \u001b[0mAvePPTS\u001b[0m \u001b[0;34m=\u001b[0m \u001b[0mTopSpend\u001b[0m\u001b[0;34m.\u001b[0m\u001b[0mgroupby\u001b[0m\u001b[0;34m(\u001b[0m\u001b[0;34m[\u001b[0m\u001b[0;34m\"SN\"\u001b[0m\u001b[0;34m]\u001b[0m\u001b[0;34m)\u001b[0m\u001b[0;34m[\u001b[0m\u001b[0;34m[\u001b[0m\u001b[0;34m\"Price\"\u001b[0m\u001b[0;34m]\u001b[0m\u001b[0;34m]\u001b[0m\u001b[0;34m.\u001b[0m\u001b[0mmean\u001b[0m\u001b[0;34m(\u001b[0m\u001b[0;34m)\u001b[0m\u001b[0;34m\u001b[0m\u001b[0;34m\u001b[0m\u001b[0m\n\u001b[1;32m      5\u001b[0m \u001b[0mTotPVTS\u001b[0m \u001b[0;34m=\u001b[0m \u001b[0mTopSpend\u001b[0m\u001b[0;34m.\u001b[0m\u001b[0mgroupby\u001b[0m\u001b[0;34m(\u001b[0m\u001b[0;34m[\u001b[0m\u001b[0;34m\"SN\"\u001b[0m\u001b[0;34m]\u001b[0m\u001b[0;34m)\u001b[0m\u001b[0;34m[\u001b[0m\u001b[0;34m[\u001b[0m\u001b[0;34m\"Price\"\u001b[0m\u001b[0;34m]\u001b[0m\u001b[0;34m]\u001b[0m\u001b[0;34m.\u001b[0m\u001b[0msum\u001b[0m\u001b[0;34m(\u001b[0m\u001b[0;34m)\u001b[0m\u001b[0;34m\u001b[0m\u001b[0;34m\u001b[0m\u001b[0m\n",
      "\u001b[0;32m~/opt/anaconda3/lib/python3.7/site-packages/pandas/core/indexing.py\u001b[0m in \u001b[0;36m__getitem__\u001b[0;34m(self, key)\u001b[0m\n\u001b[1;32m   1416\u001b[0m                 \u001b[0;32mexcept\u001b[0m \u001b[0;34m(\u001b[0m\u001b[0mKeyError\u001b[0m\u001b[0;34m,\u001b[0m \u001b[0mIndexError\u001b[0m\u001b[0;34m,\u001b[0m \u001b[0mAttributeError\u001b[0m\u001b[0;34m)\u001b[0m\u001b[0;34m:\u001b[0m\u001b[0;34m\u001b[0m\u001b[0;34m\u001b[0m\u001b[0m\n\u001b[1;32m   1417\u001b[0m                     \u001b[0;32mpass\u001b[0m\u001b[0;34m\u001b[0m\u001b[0;34m\u001b[0m\u001b[0m\n\u001b[0;32m-> 1418\u001b[0;31m             \u001b[0;32mreturn\u001b[0m \u001b[0mself\u001b[0m\u001b[0;34m.\u001b[0m\u001b[0m_getitem_tuple\u001b[0m\u001b[0;34m(\u001b[0m\u001b[0mkey\u001b[0m\u001b[0;34m)\u001b[0m\u001b[0;34m\u001b[0m\u001b[0;34m\u001b[0m\u001b[0m\n\u001b[0m\u001b[1;32m   1419\u001b[0m         \u001b[0;32melse\u001b[0m\u001b[0;34m:\u001b[0m\u001b[0;34m\u001b[0m\u001b[0;34m\u001b[0m\u001b[0m\n\u001b[1;32m   1420\u001b[0m             \u001b[0;31m# we by definition only have the 0th axis\u001b[0m\u001b[0;34m\u001b[0m\u001b[0;34m\u001b[0m\u001b[0;34m\u001b[0m\u001b[0m\n",
      "\u001b[0;32m~/opt/anaconda3/lib/python3.7/site-packages/pandas/core/indexing.py\u001b[0m in \u001b[0;36m_getitem_tuple\u001b[0;34m(self, tup)\u001b[0m\n\u001b[1;32m    812\u001b[0m         \u001b[0;31m# ugly hack for GH #836\u001b[0m\u001b[0;34m\u001b[0m\u001b[0;34m\u001b[0m\u001b[0;34m\u001b[0m\u001b[0m\n\u001b[1;32m    813\u001b[0m         \u001b[0;32mif\u001b[0m \u001b[0mself\u001b[0m\u001b[0;34m.\u001b[0m\u001b[0m_multi_take_opportunity\u001b[0m\u001b[0;34m(\u001b[0m\u001b[0mtup\u001b[0m\u001b[0;34m)\u001b[0m\u001b[0;34m:\u001b[0m\u001b[0;34m\u001b[0m\u001b[0;34m\u001b[0m\u001b[0m\n\u001b[0;32m--> 814\u001b[0;31m             \u001b[0;32mreturn\u001b[0m \u001b[0mself\u001b[0m\u001b[0;34m.\u001b[0m\u001b[0m_multi_take\u001b[0m\u001b[0;34m(\u001b[0m\u001b[0mtup\u001b[0m\u001b[0;34m)\u001b[0m\u001b[0;34m\u001b[0m\u001b[0;34m\u001b[0m\u001b[0m\n\u001b[0m\u001b[1;32m    815\u001b[0m \u001b[0;34m\u001b[0m\u001b[0m\n\u001b[1;32m    816\u001b[0m         \u001b[0;31m# no shortcut needed\u001b[0m\u001b[0;34m\u001b[0m\u001b[0;34m\u001b[0m\u001b[0;34m\u001b[0m\u001b[0m\n",
      "\u001b[0;32m~/opt/anaconda3/lib/python3.7/site-packages/pandas/core/indexing.py\u001b[0m in \u001b[0;36m_multi_take\u001b[0;34m(self, tup)\u001b[0m\n\u001b[1;32m    867\u001b[0m         d = {\n\u001b[1;32m    868\u001b[0m             \u001b[0maxis\u001b[0m\u001b[0;34m:\u001b[0m \u001b[0mself\u001b[0m\u001b[0;34m.\u001b[0m\u001b[0m_get_listlike_indexer\u001b[0m\u001b[0;34m(\u001b[0m\u001b[0mkey\u001b[0m\u001b[0;34m,\u001b[0m \u001b[0maxis\u001b[0m\u001b[0;34m)\u001b[0m\u001b[0;34m\u001b[0m\u001b[0;34m\u001b[0m\u001b[0m\n\u001b[0;32m--> 869\u001b[0;31m             \u001b[0;32mfor\u001b[0m \u001b[0;34m(\u001b[0m\u001b[0mkey\u001b[0m\u001b[0;34m,\u001b[0m \u001b[0maxis\u001b[0m\u001b[0;34m)\u001b[0m \u001b[0;32min\u001b[0m \u001b[0mzip\u001b[0m\u001b[0;34m(\u001b[0m\u001b[0mtup\u001b[0m\u001b[0;34m,\u001b[0m \u001b[0mo\u001b[0m\u001b[0;34m.\u001b[0m\u001b[0m_AXIS_ORDERS\u001b[0m\u001b[0;34m)\u001b[0m\u001b[0;34m\u001b[0m\u001b[0;34m\u001b[0m\u001b[0m\n\u001b[0m\u001b[1;32m    870\u001b[0m         }\n\u001b[1;32m    871\u001b[0m         \u001b[0;32mreturn\u001b[0m \u001b[0mo\u001b[0m\u001b[0;34m.\u001b[0m\u001b[0m_reindex_with_indexers\u001b[0m\u001b[0;34m(\u001b[0m\u001b[0md\u001b[0m\u001b[0;34m,\u001b[0m \u001b[0mcopy\u001b[0m\u001b[0;34m=\u001b[0m\u001b[0;32mTrue\u001b[0m\u001b[0;34m,\u001b[0m \u001b[0mallow_dups\u001b[0m\u001b[0;34m=\u001b[0m\u001b[0;32mTrue\u001b[0m\u001b[0;34m)\u001b[0m\u001b[0;34m\u001b[0m\u001b[0;34m\u001b[0m\u001b[0m\n",
      "\u001b[0;32m~/opt/anaconda3/lib/python3.7/site-packages/pandas/core/indexing.py\u001b[0m in \u001b[0;36m<dictcomp>\u001b[0;34m(.0)\u001b[0m\n\u001b[1;32m    867\u001b[0m         d = {\n\u001b[1;32m    868\u001b[0m             \u001b[0maxis\u001b[0m\u001b[0;34m:\u001b[0m \u001b[0mself\u001b[0m\u001b[0;34m.\u001b[0m\u001b[0m_get_listlike_indexer\u001b[0m\u001b[0;34m(\u001b[0m\u001b[0mkey\u001b[0m\u001b[0;34m,\u001b[0m \u001b[0maxis\u001b[0m\u001b[0;34m)\u001b[0m\u001b[0;34m\u001b[0m\u001b[0;34m\u001b[0m\u001b[0m\n\u001b[0;32m--> 869\u001b[0;31m             \u001b[0;32mfor\u001b[0m \u001b[0;34m(\u001b[0m\u001b[0mkey\u001b[0m\u001b[0;34m,\u001b[0m \u001b[0maxis\u001b[0m\u001b[0;34m)\u001b[0m \u001b[0;32min\u001b[0m \u001b[0mzip\u001b[0m\u001b[0;34m(\u001b[0m\u001b[0mtup\u001b[0m\u001b[0;34m,\u001b[0m \u001b[0mo\u001b[0m\u001b[0;34m.\u001b[0m\u001b[0m_AXIS_ORDERS\u001b[0m\u001b[0;34m)\u001b[0m\u001b[0;34m\u001b[0m\u001b[0;34m\u001b[0m\u001b[0m\n\u001b[0m\u001b[1;32m    870\u001b[0m         }\n\u001b[1;32m    871\u001b[0m         \u001b[0;32mreturn\u001b[0m \u001b[0mo\u001b[0m\u001b[0;34m.\u001b[0m\u001b[0m_reindex_with_indexers\u001b[0m\u001b[0;34m(\u001b[0m\u001b[0md\u001b[0m\u001b[0;34m,\u001b[0m \u001b[0mcopy\u001b[0m\u001b[0;34m=\u001b[0m\u001b[0;32mTrue\u001b[0m\u001b[0;34m,\u001b[0m \u001b[0mallow_dups\u001b[0m\u001b[0;34m=\u001b[0m\u001b[0;32mTrue\u001b[0m\u001b[0;34m)\u001b[0m\u001b[0;34m\u001b[0m\u001b[0;34m\u001b[0m\u001b[0m\n",
      "\u001b[0;32m~/opt/anaconda3/lib/python3.7/site-packages/pandas/core/indexing.py\u001b[0m in \u001b[0;36m_get_listlike_indexer\u001b[0;34m(self, key, axis, raise_missing)\u001b[0m\n\u001b[1;32m   1090\u001b[0m \u001b[0;34m\u001b[0m\u001b[0m\n\u001b[1;32m   1091\u001b[0m         self._validate_read_indexer(\n\u001b[0;32m-> 1092\u001b[0;31m             \u001b[0mkeyarr\u001b[0m\u001b[0;34m,\u001b[0m \u001b[0mindexer\u001b[0m\u001b[0;34m,\u001b[0m \u001b[0mo\u001b[0m\u001b[0;34m.\u001b[0m\u001b[0m_get_axis_number\u001b[0m\u001b[0;34m(\u001b[0m\u001b[0maxis\u001b[0m\u001b[0;34m)\u001b[0m\u001b[0;34m,\u001b[0m \u001b[0mraise_missing\u001b[0m\u001b[0;34m=\u001b[0m\u001b[0mraise_missing\u001b[0m\u001b[0;34m\u001b[0m\u001b[0;34m\u001b[0m\u001b[0m\n\u001b[0m\u001b[1;32m   1093\u001b[0m         )\n\u001b[1;32m   1094\u001b[0m         \u001b[0;32mreturn\u001b[0m \u001b[0mkeyarr\u001b[0m\u001b[0;34m,\u001b[0m \u001b[0mindexer\u001b[0m\u001b[0;34m\u001b[0m\u001b[0;34m\u001b[0m\u001b[0m\n",
      "\u001b[0;32m~/opt/anaconda3/lib/python3.7/site-packages/pandas/core/indexing.py\u001b[0m in \u001b[0;36m_validate_read_indexer\u001b[0;34m(self, key, indexer, axis, raise_missing)\u001b[0m\n\u001b[1;32m   1175\u001b[0m                 raise KeyError(\n\u001b[1;32m   1176\u001b[0m                     \"None of [{key}] are in the [{axis}]\".format(\n\u001b[0;32m-> 1177\u001b[0;31m                         \u001b[0mkey\u001b[0m\u001b[0;34m=\u001b[0m\u001b[0mkey\u001b[0m\u001b[0;34m,\u001b[0m \u001b[0maxis\u001b[0m\u001b[0;34m=\u001b[0m\u001b[0mself\u001b[0m\u001b[0;34m.\u001b[0m\u001b[0mobj\u001b[0m\u001b[0;34m.\u001b[0m\u001b[0m_get_axis_name\u001b[0m\u001b[0;34m(\u001b[0m\u001b[0maxis\u001b[0m\u001b[0;34m)\u001b[0m\u001b[0;34m\u001b[0m\u001b[0;34m\u001b[0m\u001b[0m\n\u001b[0m\u001b[1;32m   1178\u001b[0m                     )\n\u001b[1;32m   1179\u001b[0m                 )\n",
      "\u001b[0;31mKeyError\u001b[0m: \"None of [Index(['Lisosia93', 'Idastidru52', 'Chamjask73', 'Iral74', 'Iskadarya95'], dtype='object')] are in the [index]\""
     ]
    }
   ],
   "source": [
    "#Version haciendo un filtro Antes\n",
    "TopSpend = purchase_data.loc[[\"Lisosia93\",\"Idastidru52\",\"Chamjask73\",\"Iral74\",\"Iskadarya95\"],[\"Price\"]]\n",
    "CounTS = TopSpend.groupby([\"SN\"])[[\"Price\"]].count()\n",
    "AvePPTS = TopSpend.groupby([\"SN\"])[[\"Price\"]].mean()\n",
    "TotPVTS = TopSpend.groupby([\"SN\"])[[\"Price\"]].sum()\n",
    "TopSpendDF = pd.concat([CounTS, AvePPTS, TotPVTS], axis=1)\n",
    "TopSpendDF"
   ]
  },
  {
   "cell_type": "code",
   "execution_count": 19,
   "metadata": {},
   "outputs": [
    {
     "data": {
      "text/html": [
       "<style  type=\"text/css\" >\n",
       "</style><table id=\"T_99045c02_8579_11ea_bec2_406c8f0ff2fb\" ><thead>    <tr>        <th class=\"blank level0\" ></th>        <th class=\"col_heading level0 col0\" >Purchase Count</th>        <th class=\"col_heading level0 col1\" >Average Purchase Price</th>        <th class=\"col_heading level0 col2\" >Total Purchase Value</th>    </tr>    <tr>        <th class=\"index_name level0\" >SN</th>        <th class=\"blank\" ></th>        <th class=\"blank\" ></th>        <th class=\"blank\" ></th>    </tr></thead><tbody>\n",
       "                <tr>\n",
       "                        <th id=\"T_99045c02_8579_11ea_bec2_406c8f0ff2fblevel0_row0\" class=\"row_heading level0 row0\" >Lisosia93</th>\n",
       "                        <td id=\"T_99045c02_8579_11ea_bec2_406c8f0ff2fbrow0_col0\" class=\"data row0 col0\" >5</td>\n",
       "                        <td id=\"T_99045c02_8579_11ea_bec2_406c8f0ff2fbrow0_col1\" class=\"data row0 col1\" >$3.79</td>\n",
       "                        <td id=\"T_99045c02_8579_11ea_bec2_406c8f0ff2fbrow0_col2\" class=\"data row0 col2\" >$18.96</td>\n",
       "            </tr>\n",
       "            <tr>\n",
       "                        <th id=\"T_99045c02_8579_11ea_bec2_406c8f0ff2fblevel0_row1\" class=\"row_heading level0 row1\" >Idastidru52</th>\n",
       "                        <td id=\"T_99045c02_8579_11ea_bec2_406c8f0ff2fbrow1_col0\" class=\"data row1 col0\" >4</td>\n",
       "                        <td id=\"T_99045c02_8579_11ea_bec2_406c8f0ff2fbrow1_col1\" class=\"data row1 col1\" >$3.86</td>\n",
       "                        <td id=\"T_99045c02_8579_11ea_bec2_406c8f0ff2fbrow1_col2\" class=\"data row1 col2\" >$15.45</td>\n",
       "            </tr>\n",
       "            <tr>\n",
       "                        <th id=\"T_99045c02_8579_11ea_bec2_406c8f0ff2fblevel0_row2\" class=\"row_heading level0 row2\" >Chamjask73</th>\n",
       "                        <td id=\"T_99045c02_8579_11ea_bec2_406c8f0ff2fbrow2_col0\" class=\"data row2 col0\" >3</td>\n",
       "                        <td id=\"T_99045c02_8579_11ea_bec2_406c8f0ff2fbrow2_col1\" class=\"data row2 col1\" >$4.61</td>\n",
       "                        <td id=\"T_99045c02_8579_11ea_bec2_406c8f0ff2fbrow2_col2\" class=\"data row2 col2\" >$13.83</td>\n",
       "            </tr>\n",
       "            <tr>\n",
       "                        <th id=\"T_99045c02_8579_11ea_bec2_406c8f0ff2fblevel0_row3\" class=\"row_heading level0 row3\" >Iral74</th>\n",
       "                        <td id=\"T_99045c02_8579_11ea_bec2_406c8f0ff2fbrow3_col0\" class=\"data row3 col0\" >4</td>\n",
       "                        <td id=\"T_99045c02_8579_11ea_bec2_406c8f0ff2fbrow3_col1\" class=\"data row3 col1\" >$3.40</td>\n",
       "                        <td id=\"T_99045c02_8579_11ea_bec2_406c8f0ff2fbrow3_col2\" class=\"data row3 col2\" >$13.62</td>\n",
       "            </tr>\n",
       "            <tr>\n",
       "                        <th id=\"T_99045c02_8579_11ea_bec2_406c8f0ff2fblevel0_row4\" class=\"row_heading level0 row4\" >Iskadarya95</th>\n",
       "                        <td id=\"T_99045c02_8579_11ea_bec2_406c8f0ff2fbrow4_col0\" class=\"data row4 col0\" >3</td>\n",
       "                        <td id=\"T_99045c02_8579_11ea_bec2_406c8f0ff2fbrow4_col1\" class=\"data row4 col1\" >$4.37</td>\n",
       "                        <td id=\"T_99045c02_8579_11ea_bec2_406c8f0ff2fbrow4_col2\" class=\"data row4 col2\" >$13.10</td>\n",
       "            </tr>\n",
       "    </tbody></table>"
      ],
      "text/plain": [
       "<pandas.io.formats.style.Styler at 0x114669050>"
      ]
     },
     "execution_count": 19,
     "metadata": {},
     "output_type": "execute_result"
    }
   ],
   "source": [
    "#Version Oficial de la Tarea\n",
    "CounTS = purchase_data.groupby([\"SN\"])[[\"Price\"]].count()\n",
    "CounTS = CounTS.rename(columns={\"Price\":\"Purchase Count\"})\n",
    "AvePPTS = purchase_data.groupby([\"SN\"])[[\"Price\"]].mean()\n",
    "AvePPTS = AvePPTS.rename(columns={\"Price\":\"Average Purchase Price\"})\n",
    "TotPVTS = purchase_data.groupby([\"SN\"])[[\"Price\"]].sum()\n",
    "TotPVTS = TotPVTS.rename(columns={\"Price\":\"Total Purchase Value\"})\n",
    "TopSpendDF = pd.concat([CounTS, AvePPTS, TotPVTS], axis=1)\n",
    "TopSpendDF = TopSpendDF.sort_values([\"Total Purchase Value\"], ascending=False)\n",
    "Top5 = TopSpendDF.head(5)\n",
    "Top5 = Top5.style.format({'Average Purchase Price': \"${:.2f}\",'Total Purchase Value': \"${:,.2f}\"})\n",
    "Top5"
   ]
  },
  {
   "cell_type": "markdown",
   "metadata": {},
   "source": [
    "## Most Popular Items"
   ]
  },
  {
   "cell_type": "markdown",
   "metadata": {},
   "source": [
    "* Retrieve the Item ID, Item Name, and Item Price columns\n",
    "\n",
    "\n",
    "* Group by Item ID and Item Name. Perform calculations to obtain purchase count, item price, and total purchase value\n",
    "\n",
    "\n",
    "* Create a summary data frame to hold the results\n",
    "\n",
    "\n",
    "* Sort the purchase count column in descending order\n",
    "\n",
    "\n",
    "* Optional: give the displayed data cleaner formatting\n",
    "\n",
    "\n",
    "* Display a preview of the summary data frame\n",
    "\n"
   ]
  },
  {
   "cell_type": "code",
   "execution_count": 83,
   "metadata": {},
   "outputs": [
    {
     "data": {
      "text/html": [
       "<style  type=\"text/css\" >\n",
       "</style><table id=\"T_428f3c1c_8582_11ea_bec2_406c8f0ff2fb\" ><thead>    <tr>        <th class=\"blank\" ></th>        <th class=\"blank level0\" ></th>        <th class=\"col_heading level0 col0\" >Purchase Count</th>        <th class=\"col_heading level0 col1\" >Item Price</th>        <th class=\"col_heading level0 col2\" >Total Puchase Value</th>    </tr>    <tr>        <th class=\"index_name level0\" >Item ID</th>        <th class=\"index_name level1\" >Item Name</th>        <th class=\"blank\" ></th>        <th class=\"blank\" ></th>        <th class=\"blank\" ></th>    </tr></thead><tbody>\n",
       "                <tr>\n",
       "                        <th id=\"T_428f3c1c_8582_11ea_bec2_406c8f0ff2fblevel0_row0\" class=\"row_heading level0 row0\" >92</th>\n",
       "                        <th id=\"T_428f3c1c_8582_11ea_bec2_406c8f0ff2fblevel1_row0\" class=\"row_heading level1 row0\" >Final Critic</th>\n",
       "                        <td id=\"T_428f3c1c_8582_11ea_bec2_406c8f0ff2fbrow0_col0\" class=\"data row0 col0\" >13</td>\n",
       "                        <td id=\"T_428f3c1c_8582_11ea_bec2_406c8f0ff2fbrow0_col1\" class=\"data row0 col1\" >$4.61</td>\n",
       "                        <td id=\"T_428f3c1c_8582_11ea_bec2_406c8f0ff2fbrow0_col2\" class=\"data row0 col2\" >$59.99</td>\n",
       "            </tr>\n",
       "            <tr>\n",
       "                        <th id=\"T_428f3c1c_8582_11ea_bec2_406c8f0ff2fblevel0_row1\" class=\"row_heading level0 row1\" >178</th>\n",
       "                        <th id=\"T_428f3c1c_8582_11ea_bec2_406c8f0ff2fblevel1_row1\" class=\"row_heading level1 row1\" >Oathbreaker, Last Hope of the Breaking Storm</th>\n",
       "                        <td id=\"T_428f3c1c_8582_11ea_bec2_406c8f0ff2fbrow1_col0\" class=\"data row1 col0\" >12</td>\n",
       "                        <td id=\"T_428f3c1c_8582_11ea_bec2_406c8f0ff2fbrow1_col1\" class=\"data row1 col1\" >$4.23</td>\n",
       "                        <td id=\"T_428f3c1c_8582_11ea_bec2_406c8f0ff2fbrow1_col2\" class=\"data row1 col2\" >$50.76</td>\n",
       "            </tr>\n",
       "            <tr>\n",
       "                        <th id=\"T_428f3c1c_8582_11ea_bec2_406c8f0ff2fblevel0_row2\" class=\"row_heading level0 row2\" >145</th>\n",
       "                        <th id=\"T_428f3c1c_8582_11ea_bec2_406c8f0ff2fblevel1_row2\" class=\"row_heading level1 row2\" >Fiery Glass Crusader</th>\n",
       "                        <td id=\"T_428f3c1c_8582_11ea_bec2_406c8f0ff2fbrow2_col0\" class=\"data row2 col0\" >9</td>\n",
       "                        <td id=\"T_428f3c1c_8582_11ea_bec2_406c8f0ff2fbrow2_col1\" class=\"data row2 col1\" >$4.58</td>\n",
       "                        <td id=\"T_428f3c1c_8582_11ea_bec2_406c8f0ff2fbrow2_col2\" class=\"data row2 col2\" >$41.22</td>\n",
       "            </tr>\n",
       "            <tr>\n",
       "                        <th id=\"T_428f3c1c_8582_11ea_bec2_406c8f0ff2fblevel0_row3\" class=\"row_heading level0 row3\" >132</th>\n",
       "                        <th id=\"T_428f3c1c_8582_11ea_bec2_406c8f0ff2fblevel1_row3\" class=\"row_heading level1 row3\" >Persuasion</th>\n",
       "                        <td id=\"T_428f3c1c_8582_11ea_bec2_406c8f0ff2fbrow3_col0\" class=\"data row3 col0\" >9</td>\n",
       "                        <td id=\"T_428f3c1c_8582_11ea_bec2_406c8f0ff2fbrow3_col1\" class=\"data row3 col1\" >$3.22</td>\n",
       "                        <td id=\"T_428f3c1c_8582_11ea_bec2_406c8f0ff2fbrow3_col2\" class=\"data row3 col2\" >$28.99</td>\n",
       "            </tr>\n",
       "            <tr>\n",
       "                        <th id=\"T_428f3c1c_8582_11ea_bec2_406c8f0ff2fblevel0_row4\" class=\"row_heading level0 row4\" >108</th>\n",
       "                        <th id=\"T_428f3c1c_8582_11ea_bec2_406c8f0ff2fblevel1_row4\" class=\"row_heading level1 row4\" >Extraction, Quickblade Of Trembling Hands</th>\n",
       "                        <td id=\"T_428f3c1c_8582_11ea_bec2_406c8f0ff2fbrow4_col0\" class=\"data row4 col0\" >9</td>\n",
       "                        <td id=\"T_428f3c1c_8582_11ea_bec2_406c8f0ff2fbrow4_col1\" class=\"data row4 col1\" >$3.53</td>\n",
       "                        <td id=\"T_428f3c1c_8582_11ea_bec2_406c8f0ff2fbrow4_col2\" class=\"data row4 col2\" >$31.77</td>\n",
       "            </tr>\n",
       "    </tbody></table>"
      ],
      "text/plain": [
       "<pandas.io.formats.style.Styler at 0x11568a990>"
      ]
     },
     "execution_count": 83,
     "metadata": {},
     "output_type": "execute_result"
    }
   ],
   "source": [
    "PopIte = purchase_data.groupby([\"Item ID\",\"Item Name\"])[[\"Price\"]].mean()\n",
    "PopIte = PopIte.rename(columns={\"Price\":\"Item Price\"})\n",
    "PopIte[\"Total Puchase Value\"] = purchase_data.groupby([\"Item ID\",\"Item Name\"])[[\"Price\"]].sum()\n",
    "PopIte[\"Purchase Count\"] = purchase_data.groupby([\"Item ID\",\"Item Name\"])[[\"Price\"]].count()\n",
    "PopIte = PopIte[['Purchase Count', 'Item Price', 'Total Puchase Value']]\n",
    "PopIte = PopIte.sort_values([\"Purchase Count\"], ascending=False)\n",
    "PopIte5C = PopIte.head(5)\n",
    "PopIte5C = PopIte5C.style.format({'Item Price': \"${:.2f}\",'Total Puchase Value': \"${:,.2f}\"})\n",
    "PopIte5C"
   ]
  },
  {
   "cell_type": "markdown",
   "metadata": {},
   "source": [
    "## Most Profitable Items"
   ]
  },
  {
   "cell_type": "markdown",
   "metadata": {},
   "source": [
    "* Sort the above table by total purchase value in descending order\n",
    "\n",
    "\n",
    "* Optional: give the displayed data cleaner formatting\n",
    "\n",
    "\n",
    "* Display a preview of the data frame\n",
    "\n"
   ]
  },
  {
   "cell_type": "code",
   "execution_count": 85,
   "metadata": {
    "scrolled": true
   },
   "outputs": [
    {
     "data": {
      "text/html": [
       "<style  type=\"text/css\" >\n",
       "</style><table id=\"T_4b0aa5ac_8582_11ea_bec2_406c8f0ff2fb\" ><thead>    <tr>        <th class=\"blank\" ></th>        <th class=\"blank level0\" ></th>        <th class=\"col_heading level0 col0\" >Purchase Count</th>        <th class=\"col_heading level0 col1\" >Item Price</th>        <th class=\"col_heading level0 col2\" >Total Puchase Value</th>    </tr>    <tr>        <th class=\"index_name level0\" >Item ID</th>        <th class=\"index_name level1\" >Item Name</th>        <th class=\"blank\" ></th>        <th class=\"blank\" ></th>        <th class=\"blank\" ></th>    </tr></thead><tbody>\n",
       "                <tr>\n",
       "                        <th id=\"T_4b0aa5ac_8582_11ea_bec2_406c8f0ff2fblevel0_row0\" class=\"row_heading level0 row0\" >92</th>\n",
       "                        <th id=\"T_4b0aa5ac_8582_11ea_bec2_406c8f0ff2fblevel1_row0\" class=\"row_heading level1 row0\" >Final Critic</th>\n",
       "                        <td id=\"T_4b0aa5ac_8582_11ea_bec2_406c8f0ff2fbrow0_col0\" class=\"data row0 col0\" >13</td>\n",
       "                        <td id=\"T_4b0aa5ac_8582_11ea_bec2_406c8f0ff2fbrow0_col1\" class=\"data row0 col1\" >$4.61</td>\n",
       "                        <td id=\"T_4b0aa5ac_8582_11ea_bec2_406c8f0ff2fbrow0_col2\" class=\"data row0 col2\" >$59.99</td>\n",
       "            </tr>\n",
       "            <tr>\n",
       "                        <th id=\"T_4b0aa5ac_8582_11ea_bec2_406c8f0ff2fblevel0_row1\" class=\"row_heading level0 row1\" >178</th>\n",
       "                        <th id=\"T_4b0aa5ac_8582_11ea_bec2_406c8f0ff2fblevel1_row1\" class=\"row_heading level1 row1\" >Oathbreaker, Last Hope of the Breaking Storm</th>\n",
       "                        <td id=\"T_4b0aa5ac_8582_11ea_bec2_406c8f0ff2fbrow1_col0\" class=\"data row1 col0\" >12</td>\n",
       "                        <td id=\"T_4b0aa5ac_8582_11ea_bec2_406c8f0ff2fbrow1_col1\" class=\"data row1 col1\" >$4.23</td>\n",
       "                        <td id=\"T_4b0aa5ac_8582_11ea_bec2_406c8f0ff2fbrow1_col2\" class=\"data row1 col2\" >$50.76</td>\n",
       "            </tr>\n",
       "            <tr>\n",
       "                        <th id=\"T_4b0aa5ac_8582_11ea_bec2_406c8f0ff2fblevel0_row2\" class=\"row_heading level0 row2\" >82</th>\n",
       "                        <th id=\"T_4b0aa5ac_8582_11ea_bec2_406c8f0ff2fblevel1_row2\" class=\"row_heading level1 row2\" >Nirvana</th>\n",
       "                        <td id=\"T_4b0aa5ac_8582_11ea_bec2_406c8f0ff2fbrow2_col0\" class=\"data row2 col0\" >9</td>\n",
       "                        <td id=\"T_4b0aa5ac_8582_11ea_bec2_406c8f0ff2fbrow2_col1\" class=\"data row2 col1\" >$4.90</td>\n",
       "                        <td id=\"T_4b0aa5ac_8582_11ea_bec2_406c8f0ff2fbrow2_col2\" class=\"data row2 col2\" >$44.10</td>\n",
       "            </tr>\n",
       "            <tr>\n",
       "                        <th id=\"T_4b0aa5ac_8582_11ea_bec2_406c8f0ff2fblevel0_row3\" class=\"row_heading level0 row3\" >145</th>\n",
       "                        <th id=\"T_4b0aa5ac_8582_11ea_bec2_406c8f0ff2fblevel1_row3\" class=\"row_heading level1 row3\" >Fiery Glass Crusader</th>\n",
       "                        <td id=\"T_4b0aa5ac_8582_11ea_bec2_406c8f0ff2fbrow3_col0\" class=\"data row3 col0\" >9</td>\n",
       "                        <td id=\"T_4b0aa5ac_8582_11ea_bec2_406c8f0ff2fbrow3_col1\" class=\"data row3 col1\" >$4.58</td>\n",
       "                        <td id=\"T_4b0aa5ac_8582_11ea_bec2_406c8f0ff2fbrow3_col2\" class=\"data row3 col2\" >$41.22</td>\n",
       "            </tr>\n",
       "            <tr>\n",
       "                        <th id=\"T_4b0aa5ac_8582_11ea_bec2_406c8f0ff2fblevel0_row4\" class=\"row_heading level0 row4\" >103</th>\n",
       "                        <th id=\"T_4b0aa5ac_8582_11ea_bec2_406c8f0ff2fblevel1_row4\" class=\"row_heading level1 row4\" >Singed Scalpel</th>\n",
       "                        <td id=\"T_4b0aa5ac_8582_11ea_bec2_406c8f0ff2fbrow4_col0\" class=\"data row4 col0\" >8</td>\n",
       "                        <td id=\"T_4b0aa5ac_8582_11ea_bec2_406c8f0ff2fbrow4_col1\" class=\"data row4 col1\" >$4.35</td>\n",
       "                        <td id=\"T_4b0aa5ac_8582_11ea_bec2_406c8f0ff2fbrow4_col2\" class=\"data row4 col2\" >$34.80</td>\n",
       "            </tr>\n",
       "    </tbody></table>"
      ],
      "text/plain": [
       "<pandas.io.formats.style.Styler at 0x1160db150>"
      ]
     },
     "execution_count": 85,
     "metadata": {},
     "output_type": "execute_result"
    }
   ],
   "source": [
    "PopIte = PopIte.sort_values([\"Total Puchase Value\"], ascending=False)\n",
    "PopIte5T = PopIte.head(5)\n",
    "PopIte5T = PopIte5T.style.format({'Item Price': \"${:.2f}\",'Total Puchase Value': \"${:,.2f}\"})\n",
    "PopIte5T"
   ]
  },
  {
   "cell_type": "code",
   "execution_count": null,
   "metadata": {},
   "outputs": [],
   "source": []
  }
 ],
 "metadata": {
  "anaconda-cloud": {},
  "kernel_info": {
   "name": "python3"
  },
  "kernelspec": {
   "display_name": "Python 3",
   "language": "python",
   "name": "python3"
  },
  "language_info": {
   "codemirror_mode": {
    "name": "ipython",
    "version": 3
   },
   "file_extension": ".py",
   "mimetype": "text/x-python",
   "name": "python",
   "nbconvert_exporter": "python",
   "pygments_lexer": "ipython3",
   "version": "3.7.4"
  },
  "latex_envs": {
   "LaTeX_envs_menu_present": true,
   "autoclose": false,
   "autocomplete": true,
   "bibliofile": "biblio.bib",
   "cite_by": "apalike",
   "current_citInitial": 1,
   "eqLabelWithNumbers": true,
   "eqNumInitial": 1,
   "hotkeys": {
    "equation": "Ctrl-E",
    "itemize": "Ctrl-I"
   },
   "labels_anchors": false,
   "latex_user_defs": false,
   "report_style_numbering": false,
   "user_envs_cfg": false
  },
  "nteract": {
   "version": "0.2.0"
  }
 },
 "nbformat": 4,
 "nbformat_minor": 2
}
